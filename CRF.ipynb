{
  "nbformat": 4,
  "nbformat_minor": 0,
  "metadata": {
    "colab": {
      "name": "CRF.ipynb",
      "provenance": []
    },
    "kernelspec": {
      "name": "python3",
      "display_name": "Python 3"
    }
  },
  "cells": [
    {
      "cell_type": "code",
      "metadata": {
        "id": "ef3REZHvl6Pj",
        "colab_type": "code",
        "colab": {
          "base_uri": "https://localhost:8080/",
          "height": 185
        },
        "outputId": "00b8de32-bd59-44ea-a643-55de75045ca6"
      },
      "source": [
        "!pip install sklearn_crfsuite"
      ],
      "execution_count": null,
      "outputs": [
        {
          "output_type": "stream",
          "text": [
            "Collecting sklearn_crfsuite\n",
            "  Downloading https://files.pythonhosted.org/packages/25/74/5b7befa513482e6dee1f3dd68171a6c9dfc14c0eaa00f885ffeba54fe9b0/sklearn_crfsuite-0.3.6-py2.py3-none-any.whl\n",
            "Collecting python-crfsuite>=0.8.3\n",
            "\u001b[?25l  Downloading https://files.pythonhosted.org/packages/95/99/869dde6dbf3e0d07a013c8eebfb0a3d30776334e0097f8432b631a9a3a19/python_crfsuite-0.9.7-cp36-cp36m-manylinux1_x86_64.whl (743kB)\n",
            "\u001b[K     |████████████████████████████████| 747kB 4.8MB/s \n",
            "\u001b[?25hRequirement already satisfied: tqdm>=2.0 in /usr/local/lib/python3.6/dist-packages (from sklearn_crfsuite) (4.41.1)\n",
            "Requirement already satisfied: six in /usr/local/lib/python3.6/dist-packages (from sklearn_crfsuite) (1.15.0)\n",
            "Requirement already satisfied: tabulate in /usr/local/lib/python3.6/dist-packages (from sklearn_crfsuite) (0.8.7)\n",
            "Installing collected packages: python-crfsuite, sklearn-crfsuite\n",
            "Successfully installed python-crfsuite-0.9.7 sklearn-crfsuite-0.3.6\n"
          ],
          "name": "stdout"
        }
      ]
    },
    {
      "cell_type": "code",
      "metadata": {
        "id": "A7rg0EhDmGK6",
        "colab_type": "code",
        "colab": {
          "base_uri": "https://localhost:8080/",
          "height": 34
        },
        "outputId": "6612919d-2e67-4ff4-c1ff-4433f897ceb9"
      },
      "source": [
        "from google.colab import drive\n",
        "drive.mount('/content/drive')\n",
        "from sklearn.metrics import f1_score"
      ],
      "execution_count": null,
      "outputs": [
        {
          "output_type": "stream",
          "text": [
            "Drive already mounted at /content/drive; to attempt to forcibly remount, call drive.mount(\"/content/drive\", force_remount=True).\n"
          ],
          "name": "stdout"
        }
      ]
    },
    {
      "cell_type": "code",
      "metadata": {
        "id": "dX2iXc48mZju",
        "colab_type": "code",
        "colab": {
          "base_uri": "https://localhost:8080/",
          "height": 34
        },
        "outputId": "325989c1-96af-4245-d062-67e74ad8bc58"
      },
      "source": [
        "import os\n",
        "from torch.utils import data\n",
        "class SentenceGetter(data.Dataset):\n",
        "    def __init__(self,type_data):\n",
        "        super(SentenceGetter,self).__init__()\n",
        "        path='/content/drive/My Drive/Colab/data/train'\n",
        "        if(type_data=='test'):\n",
        "          path='/content/drive/My Drive/Colab/data/test'\n",
        "            \n",
        "        arr=os.listdir(path)\n",
        "        self.list_pos=[]\n",
        "        self.list_sentence = []\n",
        "        self.list_label = []\n",
        "        self.sentences = []\n",
        "        self.labels = []\n",
        "        sentence = \"\"\n",
        "        labels = \"\"\n",
        "        pos=\"\"\n",
        "        for i in range(len(arr)):\n",
        "            path_file = path + \"/\" + arr[i]\n",
        "\n",
        "            file_data = open(path_file, encoding='utf-8')\n",
        "\n",
        "            for line in file_data:\n",
        "\n",
        "                if line == '\\n':\n",
        "                    sentence = sentence[:-1]\n",
        "                    labels = labels[:-1]\n",
        "                    pos=pos[:-1]\n",
        "                    self.list_sentence.append(sentence)\n",
        "                    self.list_label.append(labels)\n",
        "                    self.list_pos.append(pos)\n",
        "                    sentence = \"\"\n",
        "                    labels = \"\"\n",
        "                    pos=\"\"\n",
        "\n",
        "                else:\n",
        "                    words = line.split(\"\\t\")\n",
        "                    sentence = sentence + words[0] + \" \"\n",
        "                    pos=pos+words[1]+\" \"\n",
        "                    labels = labels + words[2].replace(\"\\n\", \"\") + \" \"\n",
        "train=SentenceGetter('train')\n",
        "list_sentences=train.list_sentence\n",
        "print(len(list_sentences))\n",
        "list_label=train.list_label\n",
        "list_pos=train.list_pos\n",
        "sentences=[[word for word in sentence.split(\" \")] for sentence in list_sentences]\n",
        "y_train=[[word for word in sentence.split(\" \")] for sentence in list_label]\n",
        "pos_train=[[word for word in sentence.split(\" \")] for sentence in list_pos]\n"
      ],
      "execution_count": null,
      "outputs": [
        {
          "output_type": "stream",
          "text": [
            "1418\n"
          ],
          "name": "stdout"
        }
      ]
    },
    {
      "cell_type": "code",
      "metadata": {
        "id": "oU2p61QDs1r0",
        "colab_type": "code",
        "colab": {}
      },
      "source": [
        "def is_number(s):\n",
        "    try:\n",
        "        complex(s) # for int, long, float and complex\n",
        "    except ValueError:\n",
        "        return False\n",
        " \n",
        "    return True\n",
        "def word2features(sent,pos,i):\n",
        "  word=sent[i]\n",
        "  features={\n",
        "      'bias':1.0,\n",
        "      'word':word,\n",
        "      'word.is_number()': is_number(word),\n",
        "      'word.isalpha()':word.isalpha(),\n",
        "      'pos':pos[i]\n",
        "  }\n",
        "  if i > 1:\n",
        "    word2=sent[i-2]\n",
        "    features.update({\n",
        "            '-2:word':word2,\n",
        "            '-2:word.is_number()': is_number(word2),\n",
        "            '-2:word.isalpha()':word2.isalpha(),\n",
        "            '-2:pos':pos[i-2],\n",
        "    })\n",
        "  elif i> 0:\n",
        "    word1=sent[i-1]\n",
        "    features.update({\n",
        "        '-1:word':word1,\n",
        "        '-1:word.is_number()':is_number(word1),\n",
        "        '-1:word.isalpha()':word1.isalpha(),\n",
        "        '-1:pos':pos[i-1],\n",
        "    })\n",
        "  # else:\n",
        "  #   features['BOS'] = True\n",
        "  \n",
        "  if i<len(sent)-2:\n",
        "    word2=sent[i+2]\n",
        "    features.update({\n",
        "        '+2:word':word2,\n",
        "        '+2:word.is_number()':is_number(word2),\n",
        "        '+2:word.isalpha()':word2.isalpha(),\n",
        "        '+2:pos':pos[i+2],\n",
        "    })\n",
        "\n",
        "  elif i<len(sent)-1:\n",
        "    word1=sent[i+1]\n",
        "    features.update({\n",
        "        '+1:word':word1,\n",
        "        '+1:word.is_number()':is_number(word1),\n",
        "        '+1:word.isalpha()':word1.isalpha(),\n",
        "        '+1:pos':pos[i+1],\n",
        "    })\n",
        "  # else:\n",
        "  #   features['EOS']=True\n",
        "  return features\n",
        "def sent2features(sent,pos):\n",
        "    return [word2features(sent,pos, i) for i in range(len(sent))]"
      ],
      "execution_count": null,
      "outputs": []
    },
    {
      "cell_type": "code",
      "metadata": {
        "id": "W236_-xbysln",
        "colab_type": "code",
        "colab": {}
      },
      "source": [
        "X_train = [sent2features(s,pos) for s,pos in zip(sentences,pos_train)]"
      ],
      "execution_count": null,
      "outputs": []
    },
    {
      "cell_type": "code",
      "metadata": {
        "id": "vD0CLXw10Z82",
        "colab_type": "code",
        "colab": {}
      },
      "source": [
        "from sklearn_crfsuite import CRF\n",
        "\n",
        "crf = CRF(algorithm='lbfgs',\n",
        "          c1=0.1,\n",
        "          c2=0.1,\n",
        "          max_iterations=100,\n",
        "          all_possible_transitions=False)"
      ],
      "execution_count": null,
      "outputs": []
    },
    {
      "cell_type": "code",
      "metadata": {
        "id": "auKlCU920fyY",
        "colab_type": "code",
        "colab": {
          "base_uri": "https://localhost:8080/",
          "height": 188
        },
        "outputId": "fb5674af-f633-4258-b219-e94afdf786bd"
      },
      "source": [
        "crf.fit(X_train, y_train)"
      ],
      "execution_count": null,
      "outputs": [
        {
          "output_type": "stream",
          "text": [
            "/usr/local/lib/python3.6/dist-packages/sklearn/base.py:197: FutureWarning: From version 0.24, get_params will raise an AttributeError if a parameter cannot be retrieved as an instance attribute. Previously it would return None.\n",
            "  FutureWarning)\n"
          ],
          "name": "stderr"
        },
        {
          "output_type": "execute_result",
          "data": {
            "text/plain": [
              "CRF(algorithm='lbfgs', all_possible_states=None, all_possible_transitions=False,\n",
              "    averaging=None, c=None, c1=0.1, c2=0.1, calibration_candidates=None,\n",
              "    calibration_eta=None, calibration_max_trials=None, calibration_rate=None,\n",
              "    calibration_samples=None, delta=None, epsilon=None, error_sensitive=None,\n",
              "    gamma=None, keep_tempfiles=None, linesearch=None, max_iterations=100,\n",
              "    max_linesearch=None, min_freq=None, model_filename=None, num_memories=None,\n",
              "    pa_type=None, period=None, trainer_cls=None, variance=None, verbose=False)"
            ]
          },
          "metadata": {
            "tags": []
          },
          "execution_count": 28
        }
      ]
    },
    {
      "cell_type": "code",
      "metadata": {
        "id": "3HvL0i_CA4xB",
        "colab_type": "code",
        "colab": {
          "base_uri": "https://localhost:8080/",
          "height": 34
        },
        "outputId": "49424639-eb94-4db6-f680-71e43458890a"
      },
      "source": [
        "from joblib import dump\n",
        "dump(crf,'/content/drive/My Drive/Colab/model_crf/crf_model.joblib')"
      ],
      "execution_count": null,
      "outputs": [
        {
          "output_type": "execute_result",
          "data": {
            "text/plain": [
              "['/content/drive/My Drive/Colab/model_crf/crf_model.joblib']"
            ]
          },
          "metadata": {
            "tags": []
          },
          "execution_count": 9
        }
      ]
    },
    {
      "cell_type": "code",
      "metadata": {
        "id": "sjwCfYGjKsLe",
        "colab_type": "code",
        "colab": {
          "base_uri": "https://localhost:8080/",
          "height": 34
        },
        "outputId": "16b78816-cca7-4a8d-9fee-adf8e5f6030f"
      },
      "source": [
        "print(sentences[0])"
      ],
      "execution_count": null,
      "outputs": [
        {
          "output_type": "stream",
          "text": [
            "['xe', 'máy', 'không', 'nhường', 'đường', 'cho', 'xe', 'trên', 'đường', 'ưu', 'tiên', 'thì', 'bị', 'phạt', 'bao', 'nhiêu', 'tiền']\n"
          ],
          "name": "stdout"
        }
      ]
    },
    {
      "cell_type": "code",
      "metadata": {
        "id": "UR0l43ni0oxX",
        "colab_type": "code",
        "colab": {}
      },
      "source": [
        "test=SentenceGetter('test')\n",
        "list_sentences_test=test.list_sentence\n",
        "list_label=test.list_label\n",
        "list_pos=test.list_pos\n",
        "test_sentences=[[word for word in sentence.split(\" \")] for sentence in list_sentences_test]\n",
        "pos_test=[[word for word in sentence.split(\" \")] for sentence in list_pos]\n",
        "y_test=[[word for word in sentence.split(\" \")] for sentence in list_label]\n",
        "X_test = [sent2features(s,pos) for s,pos in zip(test_sentences,pos_test)]\n"
      ],
      "execution_count": null,
      "outputs": []
    },
    {
      "cell_type": "code",
      "metadata": {
        "id": "Lx7f1eXx2RWR",
        "colab_type": "code",
        "colab": {}
      },
      "source": [
        "y_predict=crf.predict(X_test)"
      ],
      "execution_count": null,
      "outputs": []
    },
    {
      "cell_type": "code",
      "metadata": {
        "id": "zUINm5i30sJo",
        "colab_type": "code",
        "colab": {
          "base_uri": "https://localhost:8080/",
          "height": 689
        },
        "outputId": "7e9799ee-e15f-4aa8-edd5-7a6e5d96efbd"
      },
      "source": [
        "from sklearn_crfsuite import metrics\n",
        "report = metrics.flat_classification_report(y_pred=y_predict, y_true=y_test)\n",
        "print(report)"
      ],
      "execution_count": null,
      "outputs": [
        {
          "output_type": "stream",
          "text": [
            "              precision    recall  f1-score   support\n",
            "\n",
            "         B-a       0.94      0.88      0.91       281\n",
            "        B-ac       1.00      1.00      1.00        10\n",
            "       B-ano       1.00      0.56      0.71        18\n",
            "        B-dl       1.00      0.96      0.98        26\n",
            "       B-if1       1.00      0.84      0.91        38\n",
            "       B-if2       1.00      0.50      0.67         6\n",
            "       B-if3       0.79      0.75      0.77        64\n",
            "       B-if4       0.67      0.69      0.68        32\n",
            "         B-l       0.93      0.88      0.91        95\n",
            "        B-qt       0.93      0.94      0.94       393\n",
            "        B-sp       0.91      0.97      0.94        31\n",
            "        B-ti       1.00      1.00      1.00        12\n",
            "        B-tl       1.00      0.67      0.80         9\n",
            "        B-tp       1.00      0.60      0.75         5\n",
            "        B-tv       0.98      0.97      0.97       290\n",
            "         B-v       0.97      1.00      0.98        32\n",
            "         I-a       0.87      0.90      0.89       877\n",
            "        I-ac       1.00      1.00      1.00        20\n",
            "       I-ano       1.00      0.38      0.55        69\n",
            "        I-dl       1.00      0.97      0.99       104\n",
            "       I-if1       0.94      0.69      0.80       137\n",
            "       I-if2       1.00      0.60      0.75        15\n",
            "       I-if3       0.70      0.72      0.71       272\n",
            "       I-if4       0.55      0.84      0.66       147\n",
            "         I-l       0.96      0.98      0.97       560\n",
            "        I-qt       0.98      0.97      0.98      1292\n",
            "        I-sp       0.91      0.97      0.94        31\n",
            "        I-ti       1.00      1.00      1.00        29\n",
            "        I-tl       1.00      0.56      0.71        18\n",
            "        I-tp       0.75      0.38      0.50        16\n",
            "        I-tv       0.98      0.96      0.97       336\n",
            "         I-v       1.00      1.00      1.00       149\n",
            "           O       0.87      0.88      0.87      1027\n",
            "\n",
            "    accuracy                           0.91      6441\n",
            "   macro avg       0.93      0.82      0.85      6441\n",
            "weighted avg       0.91      0.91      0.91      6441\n",
            "\n"
          ],
          "name": "stdout"
        }
      ]
    },
    {
      "cell_type": "code",
      "metadata": {
        "id": "axOnmPTn3Alh",
        "colab_type": "code",
        "colab": {}
      },
      "source": [
        "with open('/content/drive/My Drive/output.txt','w') as out:\n",
        "  for k in range(len(test_sentences)):\n",
        "    test_sentence=test_sentences[k]\n",
        "    for i in range(len(test_sentence)):\n",
        "      # print('{} {} {}'.format(test_sentence[i],y_test[k][i],y_predict[k][i]))\n",
        "      out.write('{} {} {}\\n'.format(test_sentence[i],y_test[k][i],y_predict[k][i]))\n",
        "    # print()\n",
        "    out.write('\\n')\n"
      ],
      "execution_count": null,
      "outputs": []
    },
    {
      "cell_type": "code",
      "metadata": {
        "id": "DqUAMr-C2iAI",
        "colab_type": "code",
        "colab": {}
      },
      "source": [
        "del crf\n",
        "# del train\n",
        "# del test"
      ],
      "execution_count": null,
      "outputs": []
    }
  ]
}